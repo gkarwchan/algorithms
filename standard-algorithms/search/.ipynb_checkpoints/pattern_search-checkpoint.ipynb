{
 "cells": [
  {
   "cell_type": "markdown",
   "metadata": {},
   "source": [
    "# Pattern Search Algorithms\n",
    "\n",
    "We are going to discuss sume of the **Pattern Searching algorighms**"
   ]
  },
  {
   "cell_type": "markdown",
   "metadata": {},
   "source": [
    "The algorithm below is as follows:\n",
    "\n",
    "1. start from line 16\n",
    "\n",
    "if text[i] == pattern[0]\n",
    "\n",
    "if we found a match to first character in the pattern, then we either add a found to the result in case the pattern is one, or we add one to the tracking indices.\n",
    "\n"
   ]
  },
  {
   "cell_type": "code",
   "execution_count": 1,
   "metadata": {},
   "outputs": [],
   "source": [
    "def search(pattern, text):\n",
    "  founds = []\n",
    "  patternIndices = []\n",
    "  for i in range(len(text)):\n",
    "    j = 0\n",
    "    while j < len(patternIndices):\n",
    "      if text[i] == pattern[patternIndices[j]]:\n",
    "        patternIndices[j] += 1\n",
    "        if patternIndices[j] == len(pattern):\n",
    "          founds.append(i - len(pattern) + 1)\n",
    "          del patternIndices[j]\n",
    "        else:\n",
    "          j += 1\n",
    "      else:\n",
    "        del patternIndices[j]\n",
    "    if text[i] == pattern[0]:\n",
    "      if len(pattern) == 1:\n",
    "        founds.append(i)\n",
    "      else:\n",
    "        patternIndices.append(1)\n",
    "    \n",
    "      \n",
    "  return founds"
   ]
  },
  {
   "cell_type": "code",
   "execution_count": 2,
   "metadata": {},
   "outputs": [
    {
     "name": "stdout",
     "output_type": "stream",
     "text": [
      "[0, 9, 12]\n"
     ]
    }
   ],
   "source": [
    "txt = 'AABAACAADAABAABA'\n",
    "pattern = 'AABA'\n",
    "result = search(pattern, txt)\n",
    "print (result)"
   ]
  },
  {
   "cell_type": "code",
   "execution_count": null,
   "metadata": {},
   "outputs": [],
   "source": []
  }
 ],
 "metadata": {
  "kernelspec": {
   "display_name": "Python 3",
   "language": "python",
   "name": "python3"
  },
  "language_info": {
   "codemirror_mode": {
    "name": "ipython",
    "version": 3
   },
   "file_extension": ".py",
   "mimetype": "text/x-python",
   "name": "python",
   "nbconvert_exporter": "python",
   "pygments_lexer": "ipython3",
   "version": "3.6.8"
  }
 },
 "nbformat": 4,
 "nbformat_minor": 2
}
