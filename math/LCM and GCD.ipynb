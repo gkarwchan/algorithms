{
 "cells": [
  {
   "cell_type": "markdown",
   "metadata": {},
   "source": [
    "# Least Common Multiple (LCM)\n",
    "The least common multiple (LCM) of two numbers is the smallest positive integer that is perfectly divisible by the two given numbers.\n"
   ]
  },
  {
   "cell_type": "code",
   "execution_count": 1,
   "metadata": {},
   "outputs": [],
   "source": [
    "\n",
    "def lcm(x, y):\n",
    "  greater = max(x, y)\n",
    "  while True:\n",
    "    if greater % x == 0 and greater % y == 0:\n",
    "      return greater\n",
    "    greater += 1\n",
    "  return 0 "
   ]
  },
  {
   "cell_type": "markdown",
   "metadata": {},
   "source": [
    "## Calculate LCM using GCD\n",
    "\n",
    "If we already have a function that calculate GCD then we can use it to calcualte LCM\n"
   ]
  },
  {
   "cell_type": "code",
   "execution_count": 2,
   "metadata": {},
   "outputs": [],
   "source": [
    "def lcm_v2(x, y):\n",
    "    return (x * y) // gcd(x, y)"
   ]
  },
  {
   "cell_type": "markdown",
   "metadata": {},
   "source": [
    "## LCM for more than two numbers"
   ]
  },
  {
   "cell_type": "code",
   "execution_count": 4,
   "metadata": {},
   "outputs": [],
   "source": [
    "def lcm_multiple(x,y,z):\n",
    "    return lcm(x, lcm(y,z))"
   ]
  },
  {
   "cell_type": "code",
   "execution_count": 6,
   "metadata": {},
   "outputs": [],
   "source": [
    "def lcm_multiple(a, b, *rest):\n",
    "    rslt = lcm(a,b)\n",
    "    if rest:\n",
    "        return lcm(rslt, rest[0], *rest[1:])\n",
    "    else:\n",
    "        return rslt\n",
    "        "
   ]
  },
  {
   "cell_type": "markdown",
   "metadata": {},
   "source": [
    "# Greatest Common Divisor (GCD)\n",
    "\n",
    "the GCD also called Highest Common Factor (HCF) is the largest positive integer that divides each of many integers.\n",
    "\n",
    "24 = __2__ * 2 * 2 * __3__  \n",
    "18 = __2 * 3__ * 3\n",
    "\n",
    "The best way to calculate GCD is using __`Euclidean Algorithm`__ as follows\n"
   ]
  },
  {
   "cell_type": "code",
   "execution_count": 8,
   "metadata": {},
   "outputs": [],
   "source": [
    "def gcdCalc(a, b):\n",
    "  if (b == 0):\n",
    "    return a\n",
    "  else:\n",
    "    return gcdCalc(b, a%b)\n"
   ]
  },
  {
   "cell_type": "markdown",
   "metadata": {},
   "source": [
    "Or without recursion"
   ]
  },
  {
   "cell_type": "code",
   "execution_count": 9,
   "metadata": {},
   "outputs": [],
   "source": [
    "def gcdCalc(a, b):\n",
    "  while(b):\n",
    "    a, b = b, a%b\n",
    "  return a"
   ]
  },
  {
   "cell_type": "markdown",
   "metadata": {},
   "source": [
    "Or if we have an **LCM** function"
   ]
  },
  {
   "cell_type": "code",
   "execution_count": 10,
   "metadata": {},
   "outputs": [],
   "source": [
    "def gcd(x,y):\n",
    "    return (x * y) // lcm (x, y)"
   ]
  }
 ],
 "metadata": {
  "kernelspec": {
   "display_name": "Python 3",
   "language": "python",
   "name": "python3"
  },
  "language_info": {
   "codemirror_mode": {
    "name": "ipython",
    "version": 3
   },
   "file_extension": ".py",
   "mimetype": "text/x-python",
   "name": "python",
   "nbconvert_exporter": "python",
   "pygments_lexer": "ipython3",
   "version": "3.7.0"
  }
 },
 "nbformat": 4,
 "nbformat_minor": 2
}
