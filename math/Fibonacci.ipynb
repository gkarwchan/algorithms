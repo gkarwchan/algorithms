{
 "cells": [
  {
   "cell_type": "markdown",
   "metadata": {},
   "source": [
    "# Fibonacci\n",
    "\n",
    "To calculate Fibonacci\n",
    "\n",
    "## Solution 1\n",
    "\n",
    "This is a naive implementation. The cost of it is O(n^2)\n"
   ]
  },
  {
   "cell_type": "code",
   "execution_count": 2,
   "metadata": {},
   "outputs": [],
   "source": [
    "def fibonicci(n):\n",
    "  if n in [1,2]:\n",
    "    return n\n",
    "  else:\n",
    "    return fibonicci(n - 2) + fibonicci(n - 1)\n"
   ]
  },
  {
   "cell_type": "markdown",
   "metadata": {},
   "source": [
    "To look at the performance try this:\n",
    "\n",
    "```bash\n",
    "python3 -m cProfile fibonicci.py\n",
    "```"
   ]
  },
  {
   "cell_type": "markdown",
   "metadata": {},
   "source": [
    "## Solution 2\n",
    "\n",
    "In order to enhance the performance we add a cache as follows:"
   ]
  },
  {
   "cell_type": "code",
   "execution_count": 5,
   "metadata": {},
   "outputs": [],
   "source": [
    "def fibonacci_v2(n):  \n",
    "    cache = [1,1] + [0] * (n - 1)\n",
    "    if cache[n] > 0:\n",
    "        return cache[n]\n",
    "    else:\n",
    "        cache[n - 2] = fibonacci(n - 2)\n",
    "        cache[n - 1] = fibonacci(n - 1)\n",
    "        return cache[n - 2] + cache[n - 1]"
   ]
  },
  {
   "cell_type": "markdown",
   "metadata": {},
   "source": [
    "## Solution 3\n",
    "\n",
    "We can use built-in lru_cache"
   ]
  },
  {
   "cell_type": "code",
   "execution_count": 9,
   "metadata": {},
   "outputs": [],
   "source": [
    "from functools import lru_cache\n",
    "\n",
    "@lru_cache(maxsize=1000)\n",
    "def fibonacci(c):\n",
    "    if c in [0, 1]: return c\n",
    "    return fibonacci(c - 1) + fibonacci(c - 2)"
   ]
  },
  {
   "cell_type": "markdown",
   "metadata": {},
   "source": [
    "## Solution 4\n",
    "\n",
    "Another approach with O(n)"
   ]
  },
  {
   "cell_type": "code",
   "execution_count": 10,
   "metadata": {},
   "outputs": [],
   "source": [
    "def fibonacci(n):  \n",
    "    first = 1\n",
    "    second = 2\n",
    "    if (n <= 2):\n",
    "        return n\n",
    "    else:\n",
    "        strt = 3\n",
    "        while strt <= n:\n",
    "            first, second = second, first\n",
    "            second += first\n",
    "            strt += 1\n",
    "        return second"
   ]
  },
  {
   "cell_type": "markdown",
   "metadata": {},
   "source": [
    "## For more related to Fibonacci check these:\n",
    "\n",
    "[project Euler problem 2](/math/project-euler/002.md)  "
   ]
  },
  {
   "cell_type": "code",
   "execution_count": null,
   "metadata": {},
   "outputs": [],
   "source": []
  }
 ],
 "metadata": {
  "kernelspec": {
   "display_name": "Python 3",
   "language": "python",
   "name": "python3"
  },
  "language_info": {
   "codemirror_mode": {
    "name": "ipython",
    "version": 3
   },
   "file_extension": ".py",
   "mimetype": "text/x-python",
   "name": "python",
   "nbconvert_exporter": "python",
   "pygments_lexer": "ipython3",
   "version": "3.7.0"
  }
 },
 "nbformat": 4,
 "nbformat_minor": 2
}
