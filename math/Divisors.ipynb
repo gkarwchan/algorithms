{
 "cells": [
  {
   "cell_type": "markdown",
   "metadata": {},
   "source": [
    "# Divisors\n",
    "\n",
    "### All divisors\n",
    "To find all divisors of a natural number, we need to do a loop, but that loop doesn't have to be for the whole number, but from the root square of the number:\n"
   ]
  },
  {
   "cell_type": "code",
   "execution_count": 1,
   "metadata": {},
   "outputs": [],
   "source": [
    "import math\n",
    "\n",
    "def divisors (number):\n",
    "  rslt = []\n",
    "  for i in range(1, math.floor(math.sqrt(number)) + 1):\n",
    "    if number % i == 0:\n",
    "      rslt.append(i)\n",
    "      if i != number // i:\n",
    "        rslt.append(number // i)\n",
    "  rslt.sort()\n",
    "  return rslt\n"
   ]
  },
  {
   "cell_type": "code",
   "execution_count": null,
   "metadata": {},
   "outputs": [],
   "source": []
  }
 ],
 "metadata": {
  "kernelspec": {
   "display_name": "Python 3",
   "language": "python",
   "name": "python3"
  },
  "language_info": {
   "codemirror_mode": {
    "name": "ipython",
    "version": 3
   },
   "file_extension": ".py",
   "mimetype": "text/x-python",
   "name": "python",
   "nbconvert_exporter": "python",
   "pygments_lexer": "ipython3",
   "version": "3.7.0"
  }
 },
 "nbformat": 4,
 "nbformat_minor": 2
}
